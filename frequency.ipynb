{
 "cells": [
  {
   "cell_type": "code",
   "execution_count": null,
   "metadata": {},
   "outputs": [],
   "source": [
    "import numpy as np\n",
    "import matplotlib.pyplot as plt\n",
    "from IPython.display import Audio\n",
    "\n",
    "\n",
    "def plot_sine_wave(frequency: float | int, duration: float | int, fs=8000) -> None:\n",
    "    # Формируем вектор времени на основе новых параметров\n",
    "    t = np.linspace(0, duration, int(fs * duration), endpoint=False)\n",
    "    # Генерируем синусоидальный сигнал\n",
    "    x = np.sin(2 * np.pi * frequency * t)\n",
    "\n",
    "    # Визуализируем сигнал\n",
    "    plt.figure(figsize=(10, 4))\n",
    "    plt.plot(t[:1000], x[:1000], label=f\"Синусоида {frequency} Гц\")\n",
    "    # plt.title(f\"Пример синусоидальной волны ноты 'До' большой октавы\")\n",
    "    plt.xlabel(\"Время (сек)\")\n",
    "    plt.ylabel(\"Амплитуда\")\n",
    "    plt.legend()\n",
    "    plt.grid(True)\n",
    "    plt.show()\n",
    "\n",
    "    Audio(x, rate=fs)"
   ]
  },
  {
   "cell_type": "code",
   "execution_count": null,
   "metadata": {},
   "outputs": [],
   "source": [
    "c_frequency = 65.41\n",
    "duration = 2\n",
    "\n",
    "plot_sine_wave(frequency=c_frequency, duration=duration)"
   ]
  }
 ],
 "metadata": {
  "kernelspec": {
   "display_name": ".venv",
   "language": "python",
   "name": "python3"
  },
  "language_info": {
   "name": "python",
   "version": "3.12.7"
  }
 },
 "nbformat": 4,
 "nbformat_minor": 2
}
